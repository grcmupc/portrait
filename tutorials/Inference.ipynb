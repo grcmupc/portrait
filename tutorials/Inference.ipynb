{
  "nbformat": 4,
  "nbformat_minor": 0,
  "metadata": {
    "colab": {
      "name": "Inference",
      "provenance": [],
      "authorship_tag": "ABX9TyOUKIHyGe7gyc09QysRkSPy",
      "include_colab_link": true
    },
    "kernelspec": {
      "name": "python3",
      "display_name": "Python 3"
    },
    "language_info": {
      "name": "python"
    }
  },
  "cells": [
    {
      "cell_type": "markdown",
      "metadata": {
        "id": "view-in-github",
        "colab_type": "text"
      },
      "source": [
        "<a href=\"https://colab.research.google.com/github/grcmupc/portrait/blob/main/tutorials/inference.ipynb\" target=\"_parent\"><img src=\"https://colab.research.google.com/assets/colab-badge.svg\" alt=\"Open In Colab\"/></a>"
      ]
    },
    {
      "cell_type": "markdown",
      "source": [
        "# Evaluation \n",
        "\n",
        "This colab allows appyling previously trained policies stored with policy_saver to desired evaluation data. "
      ],
      "metadata": {
        "id": "_XtCWYnvz0-o"
      }
    },
    {
      "cell_type": "markdown",
      "source": [
        "## Import libraries"
      ],
      "metadata": {
        "id": "ms0xixvLz5z_"
      }
    },
    {
      "cell_type": "code",
      "source": [
        "pip install tf-agents"
      ],
      "metadata": {
        "id": "o8z3qa6azzZ4"
      },
      "execution_count": null,
      "outputs": []
    },
    {
      "cell_type": "code",
      "source": [
        "import tensorflow as tf\n",
        "import csv\n",
        "import pandas as pd\n",
        "import numpy as np\n",
        "import os\n",
        "import tempfile\n",
        "import zipfile\n",
        "import shutil\n",
        "import statistics as st\n",
        "from pandas import DataFrame\n",
        "from itertools import product\n",
        "import matplotlib.pyplot as plt\n",
        "\n",
        "from tf_agents.agents.dqn import dqn_agent\n",
        "from tf_agents.environments import tf_py_environment\n",
        "from tf_agents.networks import q_network\n",
        "from tf_agents.policies import random_tf_policy\n",
        "from tf_agents.replay_buffers import tf_uniform_replay_buffer\n",
        "from tf_agents.trajectories import trajectory\n",
        "from tf_agents.utils import common\n",
        "from tf_agents.trajectories import policy_step\n",
        "from tf_agents.specs import array_spec\n",
        "from tf_agents.environments import py_environment\n",
        "from tf_agents.trajectories import time_step as ts\n",
        "\n",
        "tf.compat.v1.enable_v2_behavior()\n",
        "tf.version.VERSION"
      ],
      "metadata": {
        "colab": {
          "base_uri": "https://localhost:8080/",
          "height": 36
        },
        "id": "WKPYf9OCztcz",
        "outputId": "3613095b-eec2-44f6-e466-33a43fbd4c38"
      },
      "execution_count": null,
      "outputs": [
        {
          "output_type": "execute_result",
          "data": {
            "text/plain": [
              "'2.8.0'"
            ],
            "application/vnd.google.colaboratory.intrinsic+json": {
              "type": "string"
            }
          },
          "metadata": {},
          "execution_count": 2
        }
      ]
    },
    {
      "cell_type": "markdown",
      "source": [
        "## Configure 5G environment"
      ],
      "metadata": {
        "id": "sVNcwjcU0KK_"
      }
    },
    {
      "cell_type": "code",
      "execution_count": null,
      "metadata": {
        "id": "hO6gBTLNbKef"
      },
      "outputs": [],
      "source": [
        "k_tenants=2 #Number of Tenants\n",
        "n_BS=5 #Number of BSs\n",
        "Nt=65 #Total number of PRBs in each cell\n",
        "Seff=5 #Average Spectral efficiency in each cell\n",
        "PRB_B=360e3 #PRB Bandwidth\n",
        "Ct=Nt*Seff*PRB_B #Total capacity in the cell\n",
        "Ct_allcells=Ct*n_BS #Total capacity in the system\n",
        "\n",
        "pos_actions=[-3,0,3] #Possible actions per \n",
        "n_rep=5 #Number of repetitions for each row in the offered load files (simulation of time step duration)"
      ]
    },
    {
      "cell_type": "markdown",
      "source": [
        "## Include all the required functions for the evaluation"
      ],
      "metadata": {
        "id": "bw6PW90E0RaX"
      }
    },
    {
      "cell_type": "code",
      "execution_count": null,
      "metadata": {
        "id": "ngdeYt53e7Ca"
      },
      "outputs": [],
      "source": [
        "def obtain_data_from_dataset(df_data,n_rep, Ct_allcells, Ct):\n",
        "\n",
        "  #Obtain data from each column (configure columns)\n",
        "  dataT1=df_data.values.T[0].tolist()#Offered load Tenant 1\n",
        "  dataT2=df_data.values.T[1].tolist()#Offered load Tenant 2\n",
        "  SAGBR_perc_T1=df_data.values.T[2].tolist()#SAGBR Tenant 1\n",
        "  SAGBR_perc_T2=df_data.values.T[3].tolist()#SAGBR Tenant 2\n",
        "  MCBR_perc_T1=df_data.values.T[4].tolist()#SAGBR Tenant 1\n",
        "  MCBR_perc_T2=df_data.values.T[5].tolist()#SAGBR Tenant 2\n",
        "\n",
        "  O_k_T1=[]\n",
        "  O_k_T2=[]\n",
        "  SAGBR_k_T1=[]\n",
        "  SAGBR_k_T2=[]\n",
        "  MCBR_k_T1=[]\n",
        "  MCBR_k_T2=[]\n",
        "\n",
        "  #Process data\n",
        "  for i in range(len(dataT1)): \n",
        "    for _ in range(n_rep):\n",
        "      O_k_T1.append(dataT1[i]*Ct)\n",
        "      O_k_T2.append(dataT2[i]*Ct)\n",
        "      SAGBR_k_T1.append(SAGBR_perc_T1[i]*Ct_allcells)\n",
        "      SAGBR_k_T2.append(SAGBR_perc_T2[i]*Ct_allcells)\n",
        "      MCBR_k_T1.append(MCBR_perc_T1[i]*Ct)\n",
        "      MCBR_k_T2.append(MCBR_perc_T2[i]*Ct)\n",
        "  O_k_n=[O_k_T1,O_k_T2]\n",
        "  SAGBR=[SAGBR_k_T1,SAGBR_k_T2]\n",
        "  MCBR=[MCBR_k_T1,MCBR_k_T2]\n",
        "\n",
        "  return O_k_n, SAGBR, MCBR"
      ]
    },
    {
      "cell_type": "code",
      "execution_count": null,
      "metadata": {
        "id": "lUGMK4MjmOQ-"
      },
      "outputs": [],
      "source": [
        "class BS():\n",
        "\n",
        "    def __init__(self,k_tenants,BS_id,Nt,Seff,PRB_B,initial_share,SAGBR,MABR,O_k_n):\n",
        "        self.k_tenants=k_tenants\n",
        "        self.BS_id=BS_id\n",
        "        self.Nt=Nt\n",
        "        self.Seff=Seff\n",
        "        self.PRB_B=PRB_B\n",
        "        self.Ct=self.Nt*self.Seff*self.PRB_B\n",
        "        self.share=initial_share\n",
        "        self.MABR=MABR \n",
        "        self.SAGBR=SAGBR       \n",
        "        self.O_k=O_k_n      \n",
        "        self.Thr_k=[[],[]]\n",
        "        self.pG_k=[[],[]]\n",
        "        self.time_step=0 #number of time steps performed\n",
        "        self.time_step_chunk=0\n",
        "        self.total_steps=len(self.O_k[0])\n",
        "        self.SThr=[[],[]]\n",
        "\n",
        "        #Params to evaluate       \n",
        "        self.action_history=[[0],[0]] #It is considered that the first action is 0\n",
        "        self.share_history=[[0.6],[0.4]]\n",
        "        \n",
        "    def reset(self,share):\n",
        "        self.time_step=0\n",
        "        self.time_step_chunk=0\n",
        "        self.share=share\n",
        "        self.Thr_k=[[],[]]\n",
        "        self.pG_k=[[],[]]\n",
        "        self.action_history=[[0],[0]]\n",
        "        self.share_history=[[0.6],[0.4]]\n",
        "\n",
        "    #Get the current state\n",
        "    def get_state(self,tenant):   \n",
        "          \n",
        "        total_pG=0\n",
        "        for i in range(self.k_tenants):\n",
        "            total_pG+=self.pG_k[i][-1]\n",
        "\n",
        "        return [self.pG_k[tenant][-1],self.share[tenant],max(1-sum(self.share),0),max(1-total_pG,0)]\n",
        "\n",
        "    #Provide return parameters [Cthr, pg_k,Ok_real, Ok_modif, C_ass_n]\n",
        "    def get_performance(self,tenant):\n",
        "        return [self.Thr_k[tenant][-1],self.pG_k[tenant][-1],self.O_k[tenant][self.time_step_chunk-1],min(self.O_k[tenant][self.time_step_chunk-1],self.MABR[tenant][self.time_step_chunk-1]),self.Ct*self.share[tenant]]\n",
        "\n",
        "    #Configure a new action\n",
        "    def set_action(self,action,tenant):\n",
        "        self.action_history[tenant].append(action)\n",
        "\n",
        "    def inform_system_thr(self,SThr,tenant):\n",
        "        self.SThr[tenant]=SThr      \n",
        "\n",
        "    def apply_actions(self):\n",
        "        #Compute expected share with last actions\n",
        "        expected_share=np.zeros(self.k_tenants)\n",
        "        last_action=np.zeros(self.k_tenants) #used to identify\n",
        "        for k in range(self.k_tenants):\n",
        "            expected_share[k]=self.share[k]+self.action_history[k][-1]/100\n",
        "            last_action[k]=self.action_history[k][-1]\n",
        "            if expected_share[k]>self.MABR[k][self.time_step_chunk]/self.Ct:\n",
        "                expected_share[k]=self.MABR[k][self.time_step_chunk]/self.Ct\n",
        "                last_action[k]=0\n",
        "            elif expected_share[k]<0:\n",
        "                expected_share[k]=0\n",
        "                last_action[k]=0\n",
        "\n",
        "        #Check if conflict\n",
        "        if sum(expected_share)<=1: #No conflict\n",
        "            self.share=expected_share\n",
        "        else: #conflict: summation of share is larger than 1\n",
        "            #If there are no enough resources, those tenants above SAGBR cannot increase their PRBs\n",
        "            tenants_no_increase = [item.tolist() for item in np.where(np.array(last_action)<=0)][0] #Index of tenants that do not increase\n",
        "            tenants_increase=[item.tolist() for item in np.where(np.array(last_action)>0)][0] #Index tenants that want to increase\n",
        "\n",
        "            for k in tenants_no_increase: #Apply actions of tenants that do not ask to increase\n",
        "                self.share[k]=expected_share[k]\n",
        "\n",
        "            traffic_below=0\n",
        "            for k in tenants_increase: #detect if there are tenants with traffic below SAGBR\n",
        "                if self.SThr[k]<self.SAGBR[k][self.time_step_chunk]:\n",
        "                    traffic_below=1\n",
        "\n",
        "            for k in tenants_increase:\n",
        "                if self.SThr[k]>self.SAGBR[k][self.time_step_chunk] and traffic_below==1: #those that are above SAGBR need to decrease if there is some that is below\n",
        "                    last_action[k]=-self.action_history[k][-1]\n",
        "                    expected_share[k]=self.share[k]+last_action[k]/100\n",
        "                    self.share[k]=expected_share[k]\n",
        "                    \n",
        "            tenants_increase=[item.tolist() for item in np.where(np.array(last_action)>0)][0] #Index tenants that want to increase (update)\n",
        "\n",
        "            if sum(self.share)<1: #If the result decreasing or and 0 actions give 1, do nothing. Else:\n",
        "                denom=sum([self.SAGBR[k][self.time_step_chunk] for k in tenants_increase])\n",
        "                Av_share=1-sum(self.share)\n",
        "                #actions_tenants_increase=[self.action_history[k][-1] for k in tenants_increase]\n",
        "                action_sharing=np.zeros(self.k_tenants)\n",
        "                for k in tenants_increase: \n",
        "                    action_sharing[k]=(self.SAGBR[k][self.time_step_chunk]/denom) \n",
        "                    self.share[k]=self.share[k]+Av_share*action_sharing[k]/100 #Share according to last SLA\n",
        "            \n",
        "        for k in range(self.k_tenants):\n",
        "            self.share_history[k].append(self.share[k])\n",
        "\n",
        "    #Execute the environment for a step\n",
        "    def run(self): \n",
        "\n",
        "        #Apply actions set by agents in the environment\n",
        "        self.apply_actions()\n",
        "        \n",
        "        #Obtain current slice throughput and occupation\n",
        "        total_thr=0\n",
        "        for k in range(self.k_tenants):\n",
        "            if self.O_k[k][self.time_step_chunk]<self.share[k]*self.Ct:\n",
        "                self.Thr_k[k].append(self.O_k[k][self.time_step_chunk])\n",
        "                \n",
        "            else:\n",
        "                self.Thr_k[k].append(self.share[k]*self.Ct)\n",
        "                \n",
        "            total_thr+=self.Thr_k[k][-1]\n",
        "               \n",
        "        #Compute occupation \n",
        "        for k in range(self.k_tenants):\n",
        "            self.pG_k[k].append(self.Thr_k[k][-1]/self.Ct)\n",
        "                     \n",
        "        self.time_step+=1\n",
        "        self.time_step_chunk+=1\n",
        "\n",
        "    def import_data_chunk_BS(self, O_chunk_k_n, SAGBR_chunk, MCBR_chunk):\n",
        "        self.O_k_n=O_chunk_k_n\n",
        "        self.SAGBR=SAGBR_chunk\n",
        "        self.MABR=MCBR_chunk\n",
        "        self.time_step_chunk=0"
      ]
    },
    {
      "cell_type": "code",
      "execution_count": null,
      "metadata": {
        "id": "ECakeLLGs3Gs"
      },
      "outputs": [],
      "source": [
        "class BS_controller():\n",
        "  def __init__(self,k_tenants,n_BS,Nt,Seff,PRB_B,Ct,SAGBR,MABR,O_k_n):\n",
        "    self.k_tenants=k_tenants\n",
        "    self.n_BS=n_BS\n",
        "\n",
        "    #BS_configuration\n",
        "    self.Nt=Nt\n",
        "    self.Seff=Seff\n",
        "    self.PRB_B=PRB_B\n",
        "    self.Ct=Ct\n",
        "    self.SAGBR=SAGBR\n",
        "    self.MABR=MABR\n",
        "    self.initial_share=[self.SAGBR[k][0]/sum([self.SAGBR[i][0] for i in range(len(self.SAGBR))]) for k in range(self.k_tenants)]\n",
        "    self.reward_factors=[0,0,0.5,0.4]\n",
        "    self.BS_set=[] \n",
        "    self.total_capacity=self.n_BS*self.Ct\n",
        "\n",
        "    self.O_k_n=O_k_n\n",
        "\n",
        "    self.initialise_BS()\n",
        "\n",
        "    self.total_steps=len(self.O_k_n[0]) #Total time steps to perfrom\n",
        "    self.time_step=0 #number of time steps performed\n",
        "    self.time_step_chunk=0 #time step in the current chunk of data\n",
        "\n",
        "    self.reward_history=[[0],[0]]\n",
        "    self.fi_SLA_history=[[1],[1]]\n",
        "    self.fi_ut_history=[[0],[0]]\n",
        "    self.fi_extra_history=[[0],[0]]\n",
        "    self.total_O_k_history=[[0],[0]]\n",
        "    self.beta_k_history=[[0],[0]]\n",
        "    self.Thr_k=[[],[]]#System level throughput (sumation of all BS)\n",
        "    self.pG_k=[[],[]]\n",
        "    self.O_k=[[],[]]\n",
        "    self.O_k_modif=[[],[]]\n",
        "    self.C_ass_k=[[],[]]\n",
        "    \n",
        "    self.run()\n",
        "\n",
        "\n",
        "  def initialise_BS(self):\n",
        "      for n in range(self.n_BS): \n",
        "          self.BS_set.append(BS(self.k_tenants,n,self.Nt,self.Seff,self.PRB_B,self.initial_share,self.SAGBR,self.MABR,self.O_k_n))\n",
        "\n",
        "  def reset(self):\n",
        "      for n in range(self.n_BS):\n",
        "          self.BS_set[n].reset(self.initial_share)\n",
        "      self.time_step=0 #number of time steps performed\n",
        "      self.time_step_chunk=0 #time step in the current chunk of data\n",
        "      self.reward_history=[[0],[0]]\n",
        "      self.fi_SLA_history=[[1],[1]]\n",
        "      self.fi_ut_history=[[0],[0]]\n",
        "      self.fi_extra_history=[[0],[0]]\n",
        "      self.total_O_k_history=[[0],[0]]\n",
        "      self.beta_k_history=[[0],[0]]\n",
        "      self.Thr_k=[[],[]]#System level throughput (sumation of all BS)\n",
        "      self.pG_k=[[],[]]\n",
        "      self.O_k=[[],[]]\n",
        "      self.O_k_modif=[[],[]]\n",
        "      self.C_ass_k=[[],[]]\n",
        "\n",
        "      self.run()\n",
        "\n",
        "  def get_state(self,tenant):\n",
        "      pG_k=[]\n",
        "      share_k=[]\n",
        "      av_share_k=[]\n",
        "      av_pg_k=[]\n",
        "      MCBR=[]    \n",
        "      \n",
        "      for n in range(self.n_BS):\n",
        "          BS_state=self.BS_set[n].get_state(tenant)\n",
        "          pG_k.append(BS_state[0]) # ocupation\n",
        "          share_k.append(BS_state[1]) #tenant's share\n",
        "          av_share_k.append(BS_state[2]) #Share not used by any tenant\n",
        "          av_pg_k.append(BS_state[3])\n",
        "          MCBR.append(self.MABR[tenant][self.time_step_chunk]/self.BS_set[n].Ct)\n",
        "          \n",
        "\n",
        "      #Last row --> SAGBR(k), SAGBR_others, 0, 0 ,0\n",
        "      pG_k.append(self.SAGBR[tenant][self.time_step_chunk]/self.total_capacity)\n",
        "      SAGBR_others=0\n",
        "      for i in range(self.k_tenants):\n",
        "          if i!=tenant:\n",
        "              SAGBR_others+=self.SAGBR[i][self.time_step_chunk]\n",
        "      share_k.append(SAGBR_others/self.total_capacity)\n",
        "      av_share_k.append(0)\n",
        "      av_pg_k.append(0)\n",
        "      MCBR.append(0)\n",
        "\n",
        "      return [pG_k,share_k,av_share_k,av_pg_k,MCBR]\n",
        "\n",
        "  def get_reward(self,tenant):\n",
        "      fi_SLA_tenants=np.ones(self.k_tenants)\n",
        "      fi_ut=0\n",
        "      fi_extra=1\n",
        "      sum_Thr=0\n",
        "\n",
        "      for k in range(self.k_tenants):\n",
        "          if self.O_k_modif[k][-1]>0:\n",
        "              sla_ratio=self.Thr_k[k][-1]/min(self.O_k_modif[k][-1],self.SAGBR[k][self.time_step_chunk])   \n",
        "              fi_SLA_tenants[k]=min(sla_ratio,1)\n",
        "              sum_Thr+=self.Thr_k[k][-1]\n",
        "\n",
        "      fi_SLA_othertenants=1/(self.k_tenants-1)*sum(fi_SLA_tenants[k] for k in range(self.k_tenants) if k!=tenant)\n",
        "      fi_SLA=fi_SLA_tenants[tenant]\n",
        "\n",
        "      if self.C_ass_k[tenant][-1]>0:\n",
        "          fi_ut=self.Thr_k[tenant][-1]/(self.C_ass_k[tenant][-1])\n",
        "      elif self.O_k_modif[tenant][-1]==0:\n",
        "          fi_ut=1\n",
        "\n",
        "      total_O_k=0\n",
        "      beta_k=0 #extra capacity not required by other tenants\n",
        "      for k in range(self.k_tenants):\n",
        "          total_O_k+=self.O_k_modif[k][-1]\n",
        "          if k!=tenant:\n",
        "              beta_k+=max(self.SAGBR[k][self.time_step_chunk]-self.O_k_modif[k][-1],0)\n",
        "\n",
        "      if self.O_k_modif[tenant][-1]==0:\n",
        "          fi_extra=1\n",
        "      elif total_O_k>self.total_capacity:\n",
        "          fi_extra=min(self.Thr_k[tenant][-1]/min(self.SAGBR[tenant][self.time_step_chunk]+beta_k,self.O_k_modif[tenant][-1]),1)\n",
        "      else:\n",
        "          fi_extra=self.Thr_k[tenant][-1]/self.O_k_modif[tenant][-1]\n",
        "    \n",
        "      reward=(fi_SLA**self.reward_factors[0])*(fi_SLA_othertenants**self.reward_factors[1])*(fi_ut**self.reward_factors[2])*(fi_extra**self.reward_factors[3])\n",
        "\n",
        "      self.reward_history[tenant].append(reward)\n",
        "      self.fi_SLA_history[tenant].append(fi_SLA)\n",
        "      self.fi_ut_history[tenant].append(fi_ut)\n",
        "      self.fi_extra_history[tenant].append(fi_extra)\n",
        "      self.total_O_k_history[tenant].append(total_O_k)\n",
        "      self.beta_k_history[tenant].append(beta_k)\n",
        "      \n",
        "      return reward\n",
        "\n",
        "  def set_action(self,actions,tenant):\n",
        "      for n in range(self.n_BS):\n",
        "          self.BS_set[n].set_action(actions[n],tenant)\n",
        "          self.BS_set[n].inform_system_thr(self.Thr_k[tenant][-1],tenant)\n",
        "\n",
        "  def run(self): \n",
        "      Thr=np.zeros(self.k_tenants)\n",
        "      pG=np.zeros(self.k_tenants)\n",
        "      Oreal_k=np.zeros(self.k_tenants)\n",
        "      Omodif_k=np.zeros(self.k_tenants)\n",
        "      C_ass=np.zeros(self.k_tenants)\n",
        "\n",
        "      for n in range(self.n_BS):\n",
        "          self.BS_set[n].run()\n",
        "\n",
        "          #Gather throughput and occupation\n",
        "          for k in range(self.k_tenants):\n",
        "              results=self.BS_set[n].get_performance(k)\n",
        "              Thr[k]+=results[0]\n",
        "              pG[k]+=results[1]\n",
        "              Oreal_k[k]+=results[2]\n",
        "              Omodif_k[k]+=results[3]\n",
        "              C_ass[k]+=results[4]\n",
        "      \n",
        "      #Store performance data- Required for reward computation\n",
        "      for k in range(self.k_tenants):\n",
        "          self.Thr_k[k].append(Thr[k])\n",
        "          self.pG_k[k].append(pG[k])\n",
        "          self.O_k[k].append(Oreal_k[k])\n",
        "          self.O_k_modif[k].append(Omodif_k[k])\n",
        "          self.C_ass_k[k].append(C_ass[k])    \n",
        "\n",
        "      self.time_step+=1\n",
        "      self.time_step_chunk+=1\n",
        "\n",
        "  def import_data_chunk(self, O_chunk_k_n, SAGBR_chunk, MCBR_chunk):\n",
        "      self.O_k_n=O_chunk_k_n\n",
        "      self.SAGBR=SAGBR_chunk\n",
        "      self.MABR=MCBR_chunk\n",
        "      self.time_step_chunk=0\n",
        "\n",
        "      for n in range(self.n_BS):\n",
        "          self.BS_set[n].import_data_chunk_BS(O_chunk_k_n,SAGBR_chunk,MCBR_chunk)\n",
        "\n",
        "  def initialise_params_time_step(self): \n",
        "      for k in range(self.k_tenants):\n",
        "          self.Thr_k[k].append(0)\n",
        "          self.pG_k[k].append(0)\n",
        "          self.O_k[k].append(0)\n",
        "          self.O_k_modif[k].append(0)\n",
        "          self.C_ass_k[k].append(0)\n",
        "\n",
        "          for n in range(self.n_BS): \n",
        "              self.BS_set[n].Thr_k[k].append(0)\n",
        "              self.BS_set[n].pG_k[k].append(0)      \n",
        "\n",
        "  def next_time_step(self):\n",
        "      for k in range(self.k_tenants):\n",
        "          self.get_reward(k)\n",
        "      for n in range(self.n_BS): \n",
        "          self.BS_set[n].next_time_step_BS()\n",
        "      self.time_step+=1\n",
        "      self.time_step_chunk+=1"
      ]
    },
    {
      "cell_type": "code",
      "execution_count": null,
      "metadata": {
        "id": "vvWkEuYQ0bJJ"
      },
      "outputs": [],
      "source": [
        "class environment_5G_multipleBS(py_environment.PyEnvironment):\n",
        "\n",
        "    def __init__(self,tenant_id,bs_controller,pos_actions):\n",
        "\n",
        "        self.tenant_id=tenant_id\n",
        "        self.bs_controller=bs_controller\n",
        "\n",
        "        self.possible_actions_cell=pos_actions\n",
        "        self.n_BS=self.bs_controller.n_BS\n",
        "\n",
        "        self.possible_actions=[val for val in product(self.possible_actions_cell,repeat=self.n_BS)]\n",
        "        self.n_actions=len(self.possible_actions)\n",
        "        \n",
        "        #Set format of actions. Possible actions of an agent considering\n",
        "        self._action_spec = array_spec.BoundedArraySpec(\n",
        "            shape=(), dtype=np.int64, minimum=0, maximum=self.n_actions-1, name='action')\n",
        "        self._observation_spec = array_spec.BoundedArraySpec(\n",
        "            shape=(5,self.n_BS+1), dtype=np.float32, minimum=0, name='observation')\n",
        "            #For each state defined by the <pg, share_k, share_ava, 1-sum(pg), MCBR(n)> for each BS\n",
        "            #Last row, SAGBR(k) and sum(SAGBR(k') for k'=!k)\n",
        "        \n",
        "        self.last_action=0\n",
        "        self._state=self.bs_controller.get_state(self.tenant_id)\n",
        "        self._episode_ended=False       \n",
        "\n",
        "    def action_spec(self):\n",
        "        return self._action_spec\n",
        "\n",
        "    def observation_spec(self):\n",
        "        return self._observation_spec\n",
        "\n",
        "    def _reset(self):\n",
        "        self.bs_controller.reset()\n",
        "        self._state = self.bs_controller.get_state(self.tenant_id)\n",
        "        self.last_action=0\n",
        "        self._episode_ended = False\n",
        "        return ts.restart(np.array(self._state, dtype=np.float32))\n",
        "\n",
        "    def _step(self, action):   \n",
        "        \n",
        "        if self._episode_ended:\n",
        "            # The last action ended the episode. Ignore the current action and start\n",
        "            # a new episode.\n",
        "            return self.reset()\n",
        "\n",
        "        # Obtain state after action\n",
        "        self._state=self.bs_controller.get_state(self.tenant_id)\n",
        "        # Obtain reward after last action\n",
        "        self.reward=self.bs_controller.get_reward(self.tenant_id)\n",
        "\n",
        "        # Construct step to return\n",
        "        if self._episode_ended:\n",
        "            next_step=ts.termination(np.array(self._state, dtype=np.float32), self.reward)\n",
        "        else:\n",
        "            next_step=ts.transition(np.array(self._state, dtype=np.float32), reward=self.reward, discount=0.9)\n",
        "        \n",
        "        if isinstance(action,np.ndarray):\n",
        "            action=action.take(0)\n",
        "\n",
        "        #Translate action\n",
        "        action_trans=self.possible_actions[action]\n",
        " \n",
        "        # Apply new action\n",
        "        self.bs_controller.set_action(action_trans, self.tenant_id)\n",
        "        self.last_action=action\n",
        "\n",
        "        # Return last experience turple\n",
        "        return next_step"
      ]
    },
    {
      "cell_type": "code",
      "execution_count": null,
      "metadata": {
        "id": "CKflkxT7xzBz"
      },
      "outputs": [],
      "source": [
        "def evaluation(k_tenants,n_BS,bs_controller_eval,env_tenants_tf_eval,polices,file_name):\n",
        "  print('Starting Evaluation...')\n",
        "  #Reset evaluation environment\n",
        "  for k in range(k_tenants):\n",
        "    env_tenants_tf_eval[k].reset() #Initialise\n",
        "\n",
        "  for i in range(bs_controller_eval.total_steps-1):\n",
        "    if i%50==0:\n",
        "      print('Evaluation Step: ',i)\n",
        "    for k in range(k_tenants):\n",
        "      time_step = env_tenants_tf_eval[k].current_time_step()\n",
        "      action_new = polices[k].action(time_step)\n",
        "      env_tenants_tf_eval[k].step(action_new.action)\n",
        "    bs_controller_eval.run()\n",
        "\n",
        "  export_results(file_name+'.csv',bs_controller_eval,n_BS)\n",
        "  print('Finished Evaluation...')"
      ]
    },
    {
      "cell_type": "code",
      "execution_count": null,
      "metadata": {
        "id": "y3p9QlM50HvW"
      },
      "outputs": [],
      "source": [
        "def export_results(file_name,bs_contr,n_BS):\n",
        "  print('Generating output file...')\n",
        "\n",
        "  data={}\n",
        "  rows_data=bs_contr.total_steps\n",
        "  #System_level parameters\n",
        "  data['O_k T1']=bs_contr.O_k[0]\n",
        "  data['O_k T2']=bs_contr.O_k[1]\n",
        "\n",
        "  data['O_k_modif T1']=bs_contr.O_k_modif[0]\n",
        "  data['O_k_modif T2']=bs_contr.O_k_modif[1]\n",
        "\n",
        "  data['SThr T1']=bs_contr.Thr_k[0]\n",
        "  data['SThr T2']=bs_contr.Thr_k[1]\n",
        "\n",
        "  data['Cass_k T1']=bs_contr.C_ass_k[0]\n",
        "  data['Cass_k T2']=bs_contr.C_ass_k[1]\n",
        "\n",
        "  data['p_k T1']=bs_contr.pG_k[0]\n",
        "  data['p_k T2']=bs_contr.pG_k[1]\n",
        "\n",
        "  data['Reward T1']=bs_contr.reward_history[0]\n",
        "  data['Reward T2']=bs_contr.reward_history[1]\n",
        "\n",
        "  data['fi_SLA T1']=bs_contr.fi_SLA_history[0]\n",
        "  data['fi_SLA T2']=bs_contr.fi_SLA_history[1]\n",
        "\n",
        "  data['fi_ut T1']=bs_contr.fi_ut_history[0]\n",
        "  data['fi_ut T2']=bs_contr.fi_ut_history[1]\n",
        "\n",
        "  data['fi_extra T1']=bs_contr.fi_extra_history[0]\n",
        "  data['fi_extra T2']=bs_contr.fi_extra_history[1]\n",
        "\n",
        "  data['Total O comp T1']=bs_contr.total_O_k_history[0]\n",
        "  data['Total O comp T2']=bs_contr.total_O_k_history[1]\n",
        "  \n",
        "  data['Beta T1']=bs_contr.beta_k_history[0]\n",
        "  data['Beta T2']=bs_contr.beta_k_history[1]\n",
        "\n",
        "  #Parameter configuration\n",
        "  data['SAGBR_k T1']=bs_contr.BS_set[0].SAGBR[0] \n",
        "  data['SAGBR_k T2']=bs_contr.BS_set[0].SAGBR[1]\n",
        "  data['MABR_k T1']=bs_contr.MABR[0]\n",
        "  data['MABR_k T2']=bs_contr.MABR[1]\n",
        "  data['SLA_rw_factor']=[bs_contr.reward_factors[0] for k in range(rows_data)]\n",
        "  data['ut_rw_factor']=[bs_contr.reward_factors[1] for k in range(rows_data)]\n",
        "  data['Cells Ct']=[bs_contr.Ct for k in range(rows_data)]\n",
        "  data['Total Capacity']=[bs_contr.total_capacity for k in range(rows_data)]\n",
        "\n",
        "  #Cell_level parameters\n",
        "  for bs in range(n_BS):\n",
        "    bs_name='BS'+str(bs)\n",
        "\n",
        "    data['O_k_n T1'+bs_name]=bs_contr.BS_set[bs].O_k[0]\n",
        "    data['O_k_n T2'+bs_name]=bs_contr.BS_set[bs].O_k[1]\n",
        "\n",
        "    data['Action T1'+bs_name]=bs_contr.BS_set[bs].action_history[0]\n",
        "    data['Action T2'+bs_name]=bs_contr.BS_set[bs].action_history[1]\n",
        "\n",
        "    data['Share T1'+bs_name]=bs_contr.BS_set[bs].share_history[0][1:]\n",
        "    data['Share T2'+bs_name]=bs_contr.BS_set[bs].share_history[1][1:]\n",
        "\n",
        "    data['CThr T1'+bs_name]=bs_contr.BS_set[bs].Thr_k[0]\n",
        "    data['CThr T2'+bs_name]=bs_contr.BS_set[bs].Thr_k[1]\n",
        "\n",
        "    data['p_k_n T1'+bs_name]=bs_contr.BS_set[bs].pG_k[0]\n",
        "    data['p_k_n T2'+bs_name]=bs_contr.BS_set[bs].pG_k[1]\n",
        "\n",
        "\n",
        "  #This is only included for showcase- Comment\n",
        "  x=range(bs_contr.total_steps)\n",
        "  plt.plot(x,bs_contr.O_k[0], label=\"Offered load tenant \"+str(1))\n",
        "  plt.plot(x,bs_contr.O_k[1], label=\"Offered load tenant \"+str(2))\n",
        "  plt.plot(x,bs_contr.C_ass_k[0], label=\"Assigned capacity \"+str(1))\n",
        "  plt.plot(x,bs_contr.C_ass_k[1], label=\"Assigned capacity \"+str(2))\n",
        "\n",
        "  plt.xlabel(\"Time step\")\n",
        "  plt.ylabel(\"Mb/s\")\n",
        "  plt.title(\"Offered load vs assigned capacity\")\n",
        "  plt.legend()\n",
        "  plt.show()\n",
        "\n",
        "  df_exp=DataFrame(data,columns=[*data])\n",
        "  df_exp.to_csv(file_name, index=None, header=True, sep=',',mode='w',encoding='utf-8-sig')"
      ]
    },
    {
      "cell_type": "markdown",
      "source": [
        "##Load csv files for evaluation"
      ],
      "metadata": {
        "id": "9T8xYPoO0dRE"
      }
    },
    {
      "cell_type": "code",
      "execution_count": null,
      "metadata": {
        "id": "pQyU2sBl_cys",
        "colab": {
          "resources": {
            "http://localhost:8080/nbextensions/google.colab/files.js": {
              "data": "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",
              "ok": true,
              "headers": [
                [
                  "content-type",
                  "application/javascript"
                ]
              ],
              "status": 200,
              "status_text": ""
            }
          },
          "base_uri": "https://localhost:8080/",
          "height": 72
        },
        "outputId": "1a6f2b9b-f272-4478-88ad-492f38b938aa"
      },
      "outputs": [
        {
          "output_type": "display_data",
          "data": {
            "text/plain": [
              "<IPython.core.display.HTML object>"
            ],
            "text/html": [
              "\n",
              "     <input type=\"file\" id=\"files-97e91ea0-a4ba-44df-b53d-175de6d55338\" name=\"files[]\" multiple disabled\n",
              "        style=\"border:none\" />\n",
              "     <output id=\"result-97e91ea0-a4ba-44df-b53d-175de6d55338\">\n",
              "      Upload widget is only available when the cell has been executed in the\n",
              "      current browser session. Please rerun this cell to enable.\n",
              "      </output>\n",
              "      <script src=\"/nbextensions/google.colab/files.js\"></script> "
            ]
          },
          "metadata": {}
        },
        {
          "output_type": "stream",
          "name": "stdout",
          "text": [
            "Saving eval_data.csv to eval_data.csv\n"
          ]
        }
      ],
      "source": [
        "from google.colab import files\n",
        "import io\n",
        "\n",
        "#The following steps are only required for the Colab tutorial (no local)\n",
        "file_evaluation= files.upload()\n",
        "\n",
        "file_evaluation_name='eval_data.csv'\n",
        "#Import traffic from csv for evaluation final\n",
        "data_eval = pd.read_csv(file_evaluation_name,sep=';',header=None) #Obtain the whole file (shorter)\n",
        "O_k_n_eval, SAGBR_eval, MCBR_eval=obtain_data_from_dataset(data_eval,n_rep,Ct_allcells, Ct)"
      ]
    },
    {
      "cell_type": "markdown",
      "source": [
        "##Load previously trained policies"
      ],
      "metadata": {
        "id": "ssXL8gcj0nCs"
      }
    },
    {
      "cell_type": "code",
      "source": [
        "from google.colab import files\n",
        "import io\n",
        "\n",
        "policy_T1 = files.upload()\n",
        "policy_T2 = files.upload()"
      ],
      "metadata": {
        "colab": {
          "resources": {
            "http://localhost:8080/nbextensions/google.colab/files.js": {
              "data": "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",
              "ok": true,
              "headers": [
                [
                  "content-type",
                  "application/javascript"
                ]
              ],
              "status": 200,
              "status_text": ""
            }
          },
          "base_uri": "https://localhost:8080/",
          "height": 128
        },
        "id": "-MpJKyhmoXcD",
        "outputId": "b2df0c03-3972-4edd-b503-f7c3123a271a"
      },
      "execution_count": null,
      "outputs": [
        {
          "output_type": "display_data",
          "data": {
            "text/plain": [
              "<IPython.core.display.HTML object>"
            ],
            "text/html": [
              "\n",
              "     <input type=\"file\" id=\"files-bb4aef94-841b-4233-a756-95d8ac8d38b4\" name=\"files[]\" multiple disabled\n",
              "        style=\"border:none\" />\n",
              "     <output id=\"result-bb4aef94-841b-4233-a756-95d8ac8d38b4\">\n",
              "      Upload widget is only available when the cell has been executed in the\n",
              "      current browser session. Please rerun this cell to enable.\n",
              "      </output>\n",
              "      <script src=\"/nbextensions/google.colab/files.js\"></script> "
            ]
          },
          "metadata": {}
        },
        {
          "output_type": "stream",
          "name": "stdout",
          "text": [
            "Saving policy_results_newstrt_a3t3_5BS_NN_100_T0.zip to policy_results_newstrt_a3t3_5BS_NN_100_T0.zip\n"
          ]
        },
        {
          "output_type": "display_data",
          "data": {
            "text/plain": [
              "<IPython.core.display.HTML object>"
            ],
            "text/html": [
              "\n",
              "     <input type=\"file\" id=\"files-91947789-4130-4862-bb1f-a4ab780f86f7\" name=\"files[]\" multiple disabled\n",
              "        style=\"border:none\" />\n",
              "     <output id=\"result-91947789-4130-4862-bb1f-a4ab780f86f7\">\n",
              "      Upload widget is only available when the cell has been executed in the\n",
              "      current browser session. Please rerun this cell to enable.\n",
              "      </output>\n",
              "      <script src=\"/nbextensions/google.colab/files.js\"></script> "
            ]
          },
          "metadata": {}
        },
        {
          "output_type": "stream",
          "name": "stdout",
          "text": [
            "Saving policy_results_newstrt_a3t3_5BS_NN_100_T1.zip to policy_results_newstrt_a3t3_5BS_NN_100_T1.zip\n"
          ]
        }
      ]
    },
    {
      "cell_type": "markdown",
      "source": [
        "## Extract policies from zip file"
      ],
      "metadata": {
        "id": "_mmGFK0309tc"
      }
    },
    {
      "cell_type": "code",
      "execution_count": null,
      "metadata": {
        "id": "wDjWtyEIk2UR"
      },
      "outputs": [],
      "source": [
        "policy_base_name_T0='policy_results_newstrt_a3t3_5BS_NN_100_T0'\n",
        "policy_base_name_T1='policy_results_newstrt_a3t3_5BS_NN_100_T1'\n",
        "\n",
        "eval_polices=[]\n",
        "filenames=[]  \n",
        "\n",
        "filenames.append(policy_base_name_T0) #T1 --> POLICY TRAINED FOR TENANT 1\n",
        "filenames.append(policy_base_name_T1) #T2 --> POLICY TRAINED FOR TENANT 2\n",
        "\n",
        "for k in range(k_tenants):\n",
        "    with zipfile.ZipFile(filenames[k]+'.zip', 'r') as zip_ref:\n",
        "      zip_ref.extractall(filenames[k])\n",
        "    eval_polices.append(tf.compat.v2.saved_model.load(filenames[k]))\n"
      ]
    },
    {
      "cell_type": "markdown",
      "source": [
        " ## Create BS_controller and environments for evaluation"
      ],
      "metadata": {
        "id": "2w128YUq1T5h"
      }
    },
    {
      "cell_type": "code",
      "source": [
        "bs_controller_eval=BS_controller(k_tenants,n_BS,Nt,Seff,PRB_B,Ct,SAGBR_eval,MCBR_eval,O_k_n_eval)\n",
        "\n",
        "#Generate environments for evaluation\n",
        "env_tenants_py_eval=[]\n",
        "env_tenants_tf_eval=[]\n",
        "for k in range(k_tenants):\n",
        "  env_tenants_py_eval.append(environment_5G_multipleBS(k,bs_controller_eval,pos_actions))\n",
        "\n",
        "#Generate tf environment for evaluation\n",
        "for k in range(k_tenants):\n",
        "  env_tenants_tf_eval.append(tf_py_environment.TFPyEnvironment(env_tenants_py_eval[k]))\n",
        "  env_tenants_tf_eval[k].reset() #Initialise\n",
        "    "
      ],
      "metadata": {
        "id": "EasckLTj1S_B"
      },
      "execution_count": null,
      "outputs": []
    },
    {
      "cell_type": "markdown",
      "source": [
        "## Evaluate"
      ],
      "metadata": {
        "id": "xFaSzHzy1ECK"
      }
    },
    {
      "cell_type": "code",
      "source": [
        "#Obtain results\n",
        "\n",
        "file_name='Evaluation_output_file_v2'\n",
        "\n",
        "evaluation(k_tenants,n_BS,bs_controller_eval, env_tenants_tf_eval,eval_polices,file_name)"
      ],
      "metadata": {
        "colab": {
          "base_uri": "https://localhost:8080/",
          "height": 521
        },
        "id": "jlEfQ5svyTp3",
        "outputId": "13e39550-9a67-4afb-c686-ca617c9dfa6c"
      },
      "execution_count": null,
      "outputs": [
        {
          "output_type": "stream",
          "name": "stdout",
          "text": [
            "Starting Evaluation...\n",
            "Evaluation Step:  0\n",
            "Evaluation Step:  50\n",
            "Evaluation Step:  100\n",
            "Evaluation Step:  150\n",
            "Evaluation Step:  200\n",
            "Evaluation Step:  250\n",
            "Evaluation Step:  300\n",
            "Evaluation Step:  350\n",
            "Evaluation Step:  400\n",
            "Evaluation Step:  450\n",
            "Generating output file...\n"
          ]
        },
        {
          "output_type": "display_data",
          "data": {
            "text/plain": [
              "<Figure size 432x288 with 1 Axes>"
            ],
            "image/png": "[encoded data removed]"
          },
          "metadata": {
            "needs_background": "light"
          }
        },
        {
          "output_type": "stream",
          "name": "stdout",
          "text": [
            "Finished Evaluation...\n"
          ]
        }
      ]
    }
  ]
}
